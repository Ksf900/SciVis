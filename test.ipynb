{
 "cells": [
  {
   "cell_type": "code",
   "execution_count": null,
   "metadata": {},
   "outputs": [],
   "source": [
    "import numpy as np\n",
    "import matplotlib.pyplot as plt\n",
    "import pandas as pd\n",
    "import vtk\n",
    "\n",
    "plt.style.use('default')"
   ]
  },
  {
   "cell_type": "code",
   "execution_count": null,
   "metadata": {},
   "outputs": [],
   "source": [
    "position_file_location = 'rank_0_positions.txt'\n",
    "\n",
    "with open(position_file_location, 'r') as file:\n",
    "    \n",
    "    file.readline()  # Skip the line with the number of nodes\n",
    "    file.readline()  # Skip the min/max lines\n",
    "    file.readline()  # Skip the min/max lines\n",
    "    file.readline()  # Skip the empty line\n",
    "        \n",
    "    positions = []\n",
    "    labels = []\n",
    "    types = []\n",
    "        \n",
    "    for line in file:\n",
    "        # Skip lines that start with \"Maximum\" or \"Minimum\" or any comment lines\n",
    "        if line.startswith(\"Maximum\") or line.startswith(\"Minimum\") or line.startswith(\"#\"):\n",
    "            continue\n",
    "                \n",
    "        # Split the line by spaces\n",
    "        parts = line.split()\n",
    "            \n",
    "        # Ensure the line has the correct number of parts\n",
    "        if len(parts) >= 6:\n",
    "            x, y, z = map(float, parts[1:4])\n",
    "            area = parts[4]\n",
    "            neuron_type = parts[5]\n",
    "                    \n",
    "            positions.append([x, y, z])\n",
    "            labels.append(area)\n",
    "            types.append(neuron_type)\n",
    "    \n",
    "    positions = np.array(positions)"
   ]
  },
  {
   "cell_type": "code",
   "execution_count": null,
   "metadata": {},
   "outputs": [],
   "source": [
    "fig = plt.figure(figsize=(10, 8))\n",
    "ax = fig.add_subplot(111, projection='3d')\n",
    "\n",
    "unique_areas = list(set(labels))\n",
    "colors = plt.cm.get_cmap('tab10', len(unique_areas))\n",
    "area_color_map = {area: colors(i) for i, area in enumerate(unique_areas)}\n",
    "\n",
    "node_colors = [area_color_map[area] for area in labels]\n",
    "\n",
    "ax.scatter(positions[:, 0], positions[:, 1], positions[:, 2], c=node_colors, s=1)\n",
    "\n",
    "plt.show()"
   ]
  },
  {
   "cell_type": "code",
   "execution_count": null,
   "metadata": {},
   "outputs": [],
   "source": [
    "column_headers_pos = ['local id', 'pos x', 'pos y', 'pos z', 'area', 'type']\n",
    "\n",
    "df_pos = pd.read_csv('rank_0_positions.txt', skiprows= 8, delimiter=' ', names=column_headers_pos)\n",
    "df_pos.head()\n"
   ]
  },
  {
   "cell_type": "code",
   "execution_count": null,
   "metadata": {},
   "outputs": [],
   "source": [
    "column_headers_network = ['target rank', 'target ID', 'source rank', 'source ID', 'weigth']\n",
    "\n",
    "df_nw = pd.read_csv('rank_0_step_40000_in_network.txt', skiprows= 5, delimiter=r'\\s+', names=column_headers_network)\n",
    "df_nw.head()\n"
   ]
  },
  {
   "cell_type": "code",
   "execution_count": null,
   "metadata": {},
   "outputs": [],
   "source": [
    "graph = vtk.vtkMutableUndirectedGraph()\n",
    "\n",
    "positions = vtk.vtkPoints()\n",
    "\n",
    "for ix, id in enumerate(df_pos['local id']):\n",
    "    id = graph.AddVertex()\n",
    "    \n",
    "    positions.InsertNextPoint(df_pos[ix]['pos x'], df_pos[ix]['pos y'], df_pos[ix]['pos z'] )\n",
    "    \n"
   ]
  }
 ],
 "metadata": {
  "kernelspec": {
   "display_name": "ABM",
   "language": "python",
   "name": "python3"
  },
  "language_info": {
   "codemirror_mode": {
    "name": "ipython",
    "version": 3
   },
   "file_extension": ".py",
   "mimetype": "text/x-python",
   "name": "python",
   "nbconvert_exporter": "python",
   "pygments_lexer": "ipython3",
   "version": "3.12.3"
  }
 },
 "nbformat": 4,
 "nbformat_minor": 2
}
