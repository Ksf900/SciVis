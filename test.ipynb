{
 "cells": [
  {
   "cell_type": "code",
   "execution_count": 1,
   "metadata": {},
   "outputs": [],
   "source": [
    "import numpy as np\n",
    "import matplotlib.pyplot as plt\n",
    "import pandas as pd\n",
    "import vtk\n",
    "import os\n",
    "\n",
    "plt.style.use('default')\n",
    "\n",
    "np.random.seed(23765)"
   ]
  },
  {
   "cell_type": "code",
   "execution_count": 2,
   "metadata": {},
   "outputs": [
    {
     "data": {
      "text/html": [
       "<div>\n",
       "<style scoped>\n",
       "    .dataframe tbody tr th:only-of-type {\n",
       "        vertical-align: middle;\n",
       "    }\n",
       "\n",
       "    .dataframe tbody tr th {\n",
       "        vertical-align: top;\n",
       "    }\n",
       "\n",
       "    .dataframe thead th {\n",
       "        text-align: right;\n",
       "    }\n",
       "</style>\n",
       "<table border=\"1\" class=\"dataframe\">\n",
       "  <thead>\n",
       "    <tr style=\"text-align: right;\">\n",
       "      <th></th>\n",
       "      <th>local id</th>\n",
       "      <th>pos x</th>\n",
       "      <th>pos y</th>\n",
       "      <th>pos z</th>\n",
       "      <th>area</th>\n",
       "      <th>type</th>\n",
       "    </tr>\n",
       "  </thead>\n",
       "  <tbody>\n",
       "    <tr>\n",
       "      <th>0</th>\n",
       "      <td>1</td>\n",
       "      <td>88.017654</td>\n",
       "      <td>143.88911</td>\n",
       "      <td>83.259131</td>\n",
       "      <td>area_43</td>\n",
       "      <td>ex</td>\n",
       "    </tr>\n",
       "    <tr>\n",
       "      <th>1</th>\n",
       "      <td>2</td>\n",
       "      <td>88.071787</td>\n",
       "      <td>143.79220</td>\n",
       "      <td>83.237149</td>\n",
       "      <td>area_43</td>\n",
       "      <td>ex</td>\n",
       "    </tr>\n",
       "    <tr>\n",
       "      <th>2</th>\n",
       "      <td>3</td>\n",
       "      <td>88.093434</td>\n",
       "      <td>143.95190</td>\n",
       "      <td>83.168331</td>\n",
       "      <td>area_43</td>\n",
       "      <td>ex</td>\n",
       "    </tr>\n",
       "    <tr>\n",
       "      <th>3</th>\n",
       "      <td>4</td>\n",
       "      <td>88.063898</td>\n",
       "      <td>143.81981</td>\n",
       "      <td>83.317563</td>\n",
       "      <td>area_43</td>\n",
       "      <td>ex</td>\n",
       "    </tr>\n",
       "    <tr>\n",
       "      <th>4</th>\n",
       "      <td>5</td>\n",
       "      <td>88.066131</td>\n",
       "      <td>143.97354</td>\n",
       "      <td>83.238470</td>\n",
       "      <td>area_43</td>\n",
       "      <td>ex</td>\n",
       "    </tr>\n",
       "  </tbody>\n",
       "</table>\n",
       "</div>"
      ],
      "text/plain": [
       "   local id      pos x      pos y      pos z     area type\n",
       "0         1  88.017654  143.88911  83.259131  area_43   ex\n",
       "1         2  88.071787  143.79220  83.237149  area_43   ex\n",
       "2         3  88.093434  143.95190  83.168331  area_43   ex\n",
       "3         4  88.063898  143.81981  83.317563  area_43   ex\n",
       "4         5  88.066131  143.97354  83.238470  area_43   ex"
      ]
     },
     "execution_count": 2,
     "metadata": {},
     "output_type": "execute_result"
    }
   ],
   "source": [
    "column_headers_pos = ['local id', 'pos x', 'pos y', 'pos z', 'area', 'type']\n",
    "\n",
    "df_pos = pd.read_csv('rank_0_positions.txt', skiprows= 8, delimiter=' ', names=column_headers_pos)\n",
    "df_pos.head()\n"
   ]
  },
  {
   "cell_type": "code",
   "execution_count": 3,
   "metadata": {},
   "outputs": [],
   "source": [
    "neurons = np.sort(np.random.choice(np.arange(0, 50000, 1), size=1000, replace=False))"
   ]
  },
  {
   "cell_type": "code",
   "execution_count": 4,
   "metadata": {},
   "outputs": [
    {
     "name": "stderr",
     "output_type": "stream",
     "text": [
      "2024-11-27 10:34:51.236 python[59168:13766878] +[IMKClient subclass]: chose IMKClient_Legacy\n",
      "2024-11-27 10:34:51.236 python[59168:13766878] +[IMKInputSession subclass]: chose IMKInputSession_Legacy\n"
     ]
    }
   ],
   "source": [
    "# Create a vtkPoints object to store neuron positions\n",
    "points = vtk.vtkPoints()\n",
    "for _, row in df_pos.iterrows():\n",
    "    if row['local id'] in neurons:\n",
    "        points.InsertNextPoint(row['pos x'], row['pos y'], row['pos z'])\n",
    "\n",
    "# Create a vtkPolyData object to store the points\n",
    "polydata = vtk.vtkPolyData()\n",
    "polydata.SetPoints(points)\n",
    "\n",
    "# Create a mapper and actor for the points\n",
    "vertex_filter = vtk.vtkVertexGlyphFilter()  # Ensures points are rendered\n",
    "vertex_filter.SetInputData(polydata)\n",
    "vertex_filter.Update()\n",
    "\n",
    "mapper = vtk.vtkPolyDataMapper()\n",
    "mapper.SetInputConnection(vertex_filter.GetOutputPort())\n",
    "\n",
    "actor = vtk.vtkActor()\n",
    "actor.SetMapper(mapper)\n",
    "\n",
    "# Customize point appearance\n",
    "actor.GetProperty().SetColor(1.0, 1.0, 1.0)  # White points\n",
    "actor.GetProperty().SetPointSize(2)         # Set point size\n",
    "\n",
    "# Set up the renderer, render window, and interactor\n",
    "renderer = vtk.vtkRenderer()\n",
    "render_window = vtk.vtkRenderWindow()\n",
    "render_window.AddRenderer(renderer)\n",
    "\n",
    "interactor = vtk.vtkRenderWindowInteractor()\n",
    "interactor.SetRenderWindow(render_window)\n",
    "\n",
    "# Add the actor to the renderer\n",
    "renderer.AddActor(actor)\n",
    "renderer.SetBackground(0.1, 0.1, 0.1)  # Background color: dark gray\n",
    "\n",
    "# Start the visualization\n",
    "render_window.Render()\n",
    "interactor.Start()"
   ]
  },
  {
   "cell_type": "code",
   "execution_count": 5,
   "metadata": {},
   "outputs": [],
   "source": [
    "# column_headers_network = ['target rank', 'target ID', 'source rank', 'source ID', 'weigth']\n",
    "\n",
    "# df_nw = pd.read_csv('rank_0_step_40000_in_network.txt', skiprows= 5, delimiter=r'\\s+', names=column_headers_network)\n",
    "# df_nw.head()"
   ]
  },
  {
   "cell_type": "code",
   "execution_count": 6,
   "metadata": {},
   "outputs": [],
   "source": [
    "# column_headers_monitors = ['step', 'fired', 'fired_fraction', 'x', 'secondary_variable', 'calcium', 'target_calcium', 'synaptic_input', 'background_activity', 'grown_axons', 'connected_axons', 'grown_excitatory_dendrites', 'connected_excitatory_dendrites']\n",
    "\n",
    "# df_nw = pd.read_csv('0_0.csv', skiprows=0, delimiter=';', names=column_headers_monitors)\n",
    "# df_nw.head()"
   ]
  },
  {
   "cell_type": "code",
   "execution_count": null,
   "metadata": {},
   "outputs": [
    {
     "data": {
      "text/html": [
       "<div>\n",
       "<style scoped>\n",
       "    .dataframe tbody tr th:only-of-type {\n",
       "        vertical-align: middle;\n",
       "    }\n",
       "\n",
       "    .dataframe tbody tr th {\n",
       "        vertical-align: top;\n",
       "    }\n",
       "\n",
       "    .dataframe thead th {\n",
       "        text-align: right;\n",
       "    }\n",
       "</style>\n",
       "<table border=\"1\" class=\"dataframe\">\n",
       "  <thead>\n",
       "    <tr style=\"text-align: right;\">\n",
       "      <th></th>\n",
       "      <th>step</th>\n",
       "      <th>calcium</th>\n",
       "      <th>neuron_id</th>\n",
       "    </tr>\n",
       "  </thead>\n",
       "  <tbody>\n",
       "    <tr>\n",
       "      <th>999995</th>\n",
       "      <td>999500</td>\n",
       "      <td>0.696669</td>\n",
       "      <td>49743</td>\n",
       "    </tr>\n",
       "    <tr>\n",
       "      <th>999996</th>\n",
       "      <td>999600</td>\n",
       "      <td>0.695714</td>\n",
       "      <td>49743</td>\n",
       "    </tr>\n",
       "    <tr>\n",
       "      <th>999997</th>\n",
       "      <td>999700</td>\n",
       "      <td>0.696755</td>\n",
       "      <td>49743</td>\n",
       "    </tr>\n",
       "    <tr>\n",
       "      <th>999998</th>\n",
       "      <td>999800</td>\n",
       "      <td>0.695796</td>\n",
       "      <td>49743</td>\n",
       "    </tr>\n",
       "    <tr>\n",
       "      <th>999999</th>\n",
       "      <td>999900</td>\n",
       "      <td>0.696830</td>\n",
       "      <td>49743</td>\n",
       "    </tr>\n",
       "  </tbody>\n",
       "</table>\n",
       "</div>"
      ],
      "text/plain": [
       "          step   calcium  neuron_id\n",
       "999995  999500  0.696669      49743\n",
       "999996  999600  0.695714      49743\n",
       "999997  999700  0.696755      49743\n",
       "999998  999800  0.695796      49743\n",
       "999999  999900  0.696830      49743"
      ]
     },
     "execution_count": 44,
     "metadata": {},
     "output_type": "execute_result"
    }
   ],
   "source": [
    "column_headers_monitors = ['step', 'calcium']\n",
    "\n",
    "df_calcium = pd.DataFrame()\n",
    "\n",
    "for i in neurons:\n",
    "    filepath = f'/Users/Kattelijn/Desktop/viz-no-network/monitors/0_{i}.csv'\n",
    "    temp_df = pd.read_csv(filepath, skiprows=0, usecols=[0, 5], delimiter=';', names=column_headers_monitors)\n",
    "    temp_df['neuron_id'] = i  # Add the neuron ID as a new column\n",
    "    df_calcium = pd.concat([df_calcium, temp_df], ignore_index=True)\n",
    "\n",
    "df_calcium.tail()"
   ]
  }
 ],
 "metadata": {
  "kernelspec": {
   "display_name": "compsci",
   "language": "python",
   "name": "python3"
  },
  "language_info": {
   "codemirror_mode": {
    "name": "ipython",
    "version": 3
   },
   "file_extension": ".py",
   "mimetype": "text/x-python",
   "name": "python",
   "nbconvert_exporter": "python",
   "pygments_lexer": "ipython3",
   "version": "3.11.9"
  }
 },
 "nbformat": 4,
 "nbformat_minor": 2
}
