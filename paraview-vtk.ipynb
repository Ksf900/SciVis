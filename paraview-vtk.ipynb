{
 "cells": [
  {
   "cell_type": "code",
   "execution_count": 1,
   "metadata": {},
   "outputs": [],
   "source": [
    "import numpy as np\n",
    "import pandas as pd\n",
    "import vtk\n",
    "import os\n",
    "from functions import load_monitor_data\n",
    "from functions import load_monitor_data_for_area\n",
    "from functions import export_to_vtp\n",
    "from functions import write_vtp_files_for_area\n",
    "\n",
    "np.random.seed(23765)"
   ]
  },
  {
   "cell_type": "markdown",
   "metadata": {},
   "source": [
    "### Set parameters"
   ]
  },
  {
   "cell_type": "code",
   "execution_count": 2,
   "metadata": {},
   "outputs": [],
   "source": [
    "user = 'Kattelijn'\n",
    "simulation = 'disable' # 'no-network', 'disable', 'stimulus', 'calcium' \n",
    "number_of_neurons = 500\n",
    "time_steps = np.arange(50000, 150100, 100)\n",
    "monitor_variables = ['fired', 'fired_fraction', 'electric_activity', 'secondary_variable', 'calcium', 'synaptic_input', 'background_activity', 'grown_axons', 'connected_axons', 'grown_excitatory_dendrites', 'connected_excitatory_dendrites'] # 'fired', 'fired_fraction', 'electric_activity', 'secondary_variable', 'calcium', 'target_calcium', 'synaptic_input', 'background_activity', 'grown_axons', 'connected_axons', 'grown_excitatory_dendrites', 'connected_excitatory_dendrites'\n",
    "process_by_area = False"
   ]
  },
  {
   "cell_type": "markdown",
   "metadata": {},
   "source": [
    "### Load positions data"
   ]
  },
  {
   "cell_type": "code",
   "execution_count": 3,
   "metadata": {},
   "outputs": [],
   "source": [
    "if user == 'Kattelijn':\n",
    "    base_folder = f'/Volumes/My Passport/viz-{simulation}'\n",
    "elif user == 'Kevin':\n",
    "    base_folder = f'/Users/Kevin/Documents/Opleiding/Master/Computational_Science/Year_2/Semester_1/Period_2/Scientific_Visualisation_and_Virtual_Reality/Project/SciVisContest23/SciVisContest23/viz-{simulation}/'"
   ]
  },
  {
   "cell_type": "code",
   "execution_count": null,
   "metadata": {},
   "outputs": [],
   "source": [
    "column_headers_pos = ['local id', 'pos x', 'pos y', 'pos z', 'area', 'type']\n",
    "\n",
    "df_pos = pd.read_csv(os.path.join(base_folder, 'positions/rank_0_positions.txt'), skiprows= 8, usecols=[0, 1, 2, 3, 4], delimiter=' ', names=column_headers_pos)\n",
    "\n",
    "df_pos.head()"
   ]
  },
  {
   "cell_type": "code",
   "execution_count": 5,
   "metadata": {},
   "outputs": [],
   "source": [
    "neurons = np.sort(np.random.choice(np.arange(0, 50000, 1), size=number_of_neurons, replace=False))\n",
    "\n",
    "df_pos_filtered = df_pos[df_pos['local id'].isin(neurons)]"
   ]
  },
  {
   "cell_type": "markdown",
   "metadata": {},
   "source": [
    "### Process neurons by area"
   ]
  },
  {
   "cell_type": "code",
   "execution_count": 6,
   "metadata": {},
   "outputs": [],
   "source": [
    "if process_by_area:\n",
    "    area_groups = df_pos_filtered.groupby('area')['local id'].apply(list).to_dict()\n",
    "    \n",
    "    output_folder = f\"{simulation}_by_area_{monitor_variables}_{number_of_neurons}_neurons\"\n",
    "    time_steps_set = set(time_steps)\n",
    "\n",
    "    for area, neurons_in_area in area_groups.items():\n",
    "        print(f\"Processing {area}\")\n",
    "\n",
    "        df_monitor = load_monitor_data_for_area(area, neurons_in_area, time_steps_set, monitor_variables, base_folder)\n",
    "\n",
    "        df_merged = pd.merge(df_monitor, df_pos_filtered, left_on='neuron_id', right_on='local id', how='inner')\n",
    "\n",
    "        write_vtp_files_for_area(df_merged, output_folder, simulation, area, monitor_variables, time_steps)\n"
   ]
  },
  {
   "cell_type": "markdown",
   "metadata": {},
   "source": [
    "### Process all neurons at once"
   ]
  },
  {
   "cell_type": "code",
   "execution_count": null,
   "metadata": {},
   "outputs": [],
   "source": [
    "if not process_by_area:\n",
    "    folder = f\"{simulation}_{monitor_variables}_{number_of_neurons}_neurons\"\n",
    "    time_steps_set = set(time_steps)\n",
    "\n",
    "    df_monitor = load_monitor_data(neurons, time_steps_set, monitor_variables, base_folder)\n",
    "\n",
    "    for time_point in time_steps:\n",
    "\n",
    "        df_monitors_at_time = df_monitor[df_monitor['step'] == time_point]\n",
    "\n",
    "        df_merged = pd.merge(df_pos_filtered, df_monitors_at_time, left_on='local id', right_on='neuron_id')\n",
    "\n",
    "        filename = f'{simulation}_timestep_{time_point}.vtp'\n",
    "        export_to_vtp(df_merged.to_dict('records'), folder, filename, monitor_variables)\n",
    "\n",
    "        print(f\"Saved: {os.path.join(folder, filename)}\")"
   ]
  }
 ],
 "metadata": {
  "kernelspec": {
   "display_name": "compsci",
   "language": "python",
   "name": "python3"
  },
  "language_info": {
   "codemirror_mode": {
    "name": "ipython",
    "version": 3
   },
   "file_extension": ".py",
   "mimetype": "text/x-python",
   "name": "python",
   "nbconvert_exporter": "python",
   "pygments_lexer": "ipython3",
   "version": "3.11.9"
  }
 },
 "nbformat": 4,
 "nbformat_minor": 2
}
