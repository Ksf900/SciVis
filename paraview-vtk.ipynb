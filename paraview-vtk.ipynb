{
 "cells": [
  {
   "cell_type": "code",
   "execution_count": 18,
   "metadata": {},
   "outputs": [],
   "source": [
    "import numpy as np\n",
    "import pandas as pd\n",
    "import os\n",
    "from functions import load_monitor_data\n",
    "from functions import export_to_vtp\n",
    "\n",
    "np.random.seed(23765)"
   ]
  },
  {
   "cell_type": "markdown",
   "metadata": {},
   "source": [
    "### Set parameters"
   ]
  },
  {
   "cell_type": "code",
   "execution_count": 19,
   "metadata": {},
   "outputs": [],
   "source": [
    "user = 'Kattelijn'\n",
    "simulation = 'disable' # 'no-network', 'disable', 'stimulus', 'calcium' \n",
    "number_of_neurons = 50000\n",
    "time_steps = np.arange(50000, 150100, 100) # 1,000,000 simulation steps available, every 100th iteration step is sampled\n",
    "monitor_variables = ['fired_fraction', 'electric_activity'] # 'fired', 'fired_fraction', 'electric_activity', 'secondary_variable', 'calcium', 'target_calcium', 'synaptic_input', 'background_activity', 'grown_axons', 'connected_axons', 'grown_excitatory_dendrites', 'connected_excitatory_dendrites'\n",
    "process_by_area = True # use for large numbers of neurons and/or monitor variables"
   ]
  },
  {
   "cell_type": "markdown",
   "metadata": {},
   "source": [
    "### Load positions data"
   ]
  },
  {
   "cell_type": "code",
   "execution_count": 20,
   "metadata": {},
   "outputs": [],
   "source": [
    "if user == 'Kattelijn':\n",
    "    base_folder = f'/Volumes/My Passport/viz-{simulation}'\n",
    "elif user == 'Kevin':\n",
    "    base_folder = f'/Users/Kevin/Documents/Opleiding/Master/Computational_Science/Year_2/Semester_1/Period_2/Scientific_Visualisation_and_Virtual_Reality/Project/SciVisContest23/SciVisContest23/viz-{simulation}/'"
   ]
  },
  {
   "cell_type": "code",
   "execution_count": null,
   "metadata": {},
   "outputs": [],
   "source": [
    "column_headers_pos = ['local id', 'pos x', 'pos y', 'pos z', 'area', 'type']\n",
    "\n",
    "df_pos = pd.read_csv(os.path.join(base_folder, 'positions/rank_0_positions.txt'), skiprows= 8, usecols=[0, 1, 2, 3, 4], delimiter=' ', names=column_headers_pos)\n",
    "\n",
    "neurons = np.sort(np.random.choice(np.arange(0, 50000, 1), size=number_of_neurons, replace=False))\n",
    "\n",
    "df_pos_filtered = df_pos[df_pos['local id'].isin(neurons)]"
   ]
  },
  {
   "cell_type": "markdown",
   "metadata": {},
   "source": [
    "### Process all neurons at once"
   ]
  },
  {
   "cell_type": "code",
   "execution_count": 23,
   "metadata": {},
   "outputs": [],
   "source": [
    "if not process_by_area:\n",
    "    if len(monitor_variables) >= 11:\n",
    "        output_folder = f\"vtp_files/{simulation}/{number_of_neurons}_neurons/all_neurons/all_variables\"\n",
    "    else:\n",
    "        output_folder = f\"vtp_files/{simulation}/{number_of_neurons}_neurons/{monitor_variables}\"\n",
    "\n",
    "    if os.path.exists(output_folder):\n",
    "        response = input(f\"Warning: The folder '{output_folder}' already exists. Overwrite existing files? (yes/no): \")\n",
    "        if response.strip().lower() != 'yes':\n",
    "            exit()\n",
    "\n",
    "    time_steps_set = set(time_steps)\n",
    "\n",
    "    df_monitor = load_monitor_data(neurons, time_steps_set, monitor_variables, base_folder)\n",
    "\n",
    "    for time_point in time_steps:\n",
    "\n",
    "        df_monitors_at_time = df_monitor[df_monitor['step'] == time_point]\n",
    "\n",
    "        df_merged = pd.merge(df_pos_filtered, df_monitors_at_time, left_on='local id', right_on='neuron_id')\n",
    "\n",
    "        filename = f'{simulation}_timestep_{time_point}.vtp'\n",
    "        export_to_vtp(df_merged.to_dict('records'), output_folder, filename, monitor_variables)\n",
    "\n",
    "        print(f\"Saved: {os.path.join(output_folder, filename)}\")"
   ]
  },
  {
   "cell_type": "markdown",
   "metadata": {},
   "source": [
    "### Process neurons by area"
   ]
  },
  {
   "cell_type": "code",
   "execution_count": null,
   "metadata": {},
   "outputs": [],
   "source": [
    "if process_by_area:\n",
    "    area_groups = df_pos_filtered.groupby('area')['local id'].apply(list).to_dict()\n",
    "    \n",
    "    if len(monitor_variables) >= 11:\n",
    "        output_folder = f\"vtp_files/{simulation}/{number_of_neurons}_neurons/by_area/all_variables\"\n",
    "    else:\n",
    "        output_folder = f\"vtp_files/{simulation}/{number_of_neurons}_neurons/by_area/{monitor_variables}\"\n",
    "\n",
    "    if os.path.exists(output_folder):\n",
    "        response = input(f\"Warning: The folder '{output_folder}' already exists. Overwrite existing files? (yes/no): \")\n",
    "        if response.strip().lower() != 'yes':\n",
    "            exit()\n",
    "\n",
    "    time_steps_set = set(time_steps)\n",
    "\n",
    "    for area, neurons_in_area in area_groups.items():\n",
    "        try:\n",
    "            print(f\"Processing {area}\")\n",
    "            \n",
    "            df_monitor = load_monitor_data(neurons_in_area, time_steps_set, monitor_variables, base_folder, area)\n",
    "            df_merged = pd.merge(df_monitor, df_pos_filtered, left_on='neuron_id', right_on='local id', how='inner')\n",
    "            \n",
    "            os.makedirs(output_folder, exist_ok=True)\n",
    "\n",
    "            for time_point in time_steps:\n",
    "                print(f\"Writing VTP for area {area} at timestep {time_point}...\")\n",
    "                df_timestep = df_merged[df_merged['step'] == time_point]\n",
    "\n",
    "                filename = f\"{simulation}_{area}_timestep_{time_point}.vtp\"\n",
    "                export_to_vtp(df_timestep.to_dict('records'), output_folder, filename=filename, monitor_variables=monitor_variables)\n",
    "                print(f\"Saved: {os.path.join(output_folder, filename)}\")\n",
    "            \n",
    "            print(f\"Completed {area}\")\n",
    "        except Exception as e:\n",
    "            print(f\"Error processing {area}: {e}\")"
   ]
  }
 ],
 "metadata": {
  "kernelspec": {
   "display_name": "compsci",
   "language": "python",
   "name": "python3"
  },
  "language_info": {
   "codemirror_mode": {
    "name": "ipython",
    "version": 3
   },
   "file_extension": ".py",
   "mimetype": "text/x-python",
   "name": "python",
   "nbconvert_exporter": "python",
   "pygments_lexer": "ipython3",
   "version": "3.11.9"
  }
 },
 "nbformat": 4,
 "nbformat_minor": 2
}
